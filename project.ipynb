{
 "cells": [
  {
   "cell_type": "markdown",
   "metadata": {},
   "source": [
    "##### Imports"
   ]
  },
  {
   "cell_type": "code",
   "execution_count": 1,
   "metadata": {},
   "outputs": [],
   "source": [
    "import numpy as np\n",
    "import pandas as pd\n",
    "import sklearn\n",
    "from sklearn.cluster import KMeans\n",
    "import cv2\n",
    "import os\n",
    "import glob\n",
    "import matplotlib.pyplot as plt\n",
    "import random"
   ]
  },
  {
   "cell_type": "markdown",
   "metadata": {},
   "source": [
    "##### Reading files"
   ]
  },
  {
   "cell_type": "code",
   "execution_count": null,
   "metadata": {
    "pycharm": {
     "is_executing": true
    }
   },
   "outputs": [],
   "source": [
    "def read_files(str):\n",
    "    data = []\n",
    "    for per in os.listdir('D:/Laila/University/Computer Vision/Project/CV_2023_SC_Dataset'):\n",
    "        count = 0\n",
    "        for data in glob.glob('D:/Laila/University/Computer Vision/Project/CV_2023_SC_Dataset/'+per+'/'+ str+ '/*.png'):\n",
    "            \n",
    "            count += 1\n",
    "            if (count > 40 and str == 'Train') or (count > 8 and str == 'Test'):\n",
    "                break\n",
    "\n",
    "            img = cv2.imread(data)\n",
    "            img = cv2.cvtColor(img, cv2.COLOR_BGR2GRAY)\n",
    "            img = cv2.resize(img, (224, 224))\n",
    "\n",
    "            data.append([img, per])\n",
    "    random.shuffle(data)\n",
    "    return data"
   ]
  },
  {
   "cell_type": "markdown",
   "metadata": {},
   "source": [
    "##### Feature extraction"
   ]
  },
  {
   "cell_type": "code",
   "execution_count": null,
   "metadata": {
    "pycharm": {
     "is_executing": true
    }
   },
   "outputs": [],
   "source": [
    "def feature_exctract(data):\n",
    "    sift = cv2.SIFT_create()\n",
    "    desc = []\n",
    "\n",
    "    for row in data:\n",
    "        kp, des = sift.detectAndCompute(row[0], None)\n",
    "        desc.append(des)\n",
    "\n",
    "    desc_stack = np.array(desc[0])\n",
    "    for remaining in desc[1:]:\n",
    "        desc_stack = np.vstack((desc_stack, remaining))\n",
    "\n",
    "    kmeans_model = KMeans(n_clusters=20)\n",
    "    clusters = kmeans_model.fit_predict(desc_stack)\n"
   ]
  },
  {
   "cell_type": "code",
   "execution_count": null,
   "outputs": [],
   "source": [],
   "metadata": {
    "collapsed": false
   }
  }
 ],
 "metadata": {
  "kernelspec": {
   "display_name": "Python 3.8.3 32-bit (system)",
   "language": "python",
   "name": "python3"
  },
  "language_info": {
   "codemirror_mode": {
    "name": "ipython",
    "version": 3
   },
   "file_extension": ".py",
   "mimetype": "text/x-python",
   "name": "python",
   "nbconvert_exporter": "python",
   "pygments_lexer": "ipython3",
   "version": "3.8.3"
  },
  "orig_nbformat": 4,
  "vscode": {
   "interpreter": {
    "hash": "bdad196243c040bf54876d2c9314393eab074b4eca3f29addf1f0632e42502d9"
   }
  }
 },
 "nbformat": 4,
 "nbformat_minor": 2
}
